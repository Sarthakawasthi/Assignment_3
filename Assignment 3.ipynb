{
 "cells": [
  {
   "cell_type": "code",
   "execution_count": 13,
   "metadata": {},
   "outputs": [
    {
     "name": "stdout",
     "output_type": "stream",
     "text": [
      "5\n",
      "50\n",
      "148\n",
      "My reduce for add 148\n"
     ]
    }
   ],
   "source": [
    "#question1.1\n",
    "mylist=[0]\n",
    "x=0\n",
    "def myreduce(func,mylist):\n",
    "    x=mylist[0]\n",
    "\n",
    "    for i in range(1,len(mylist)):\n",
    "        x = func(x,mylist[i])\n",
    "        print(x)\n",
    "    return (x)\n",
    "\n",
    "def add(a,b):\n",
    "    return a+b\n",
    "l1=[2,3,45,98]\n",
    "print(\"My reduce for add\",myreduce(add,l1))"
   ]
  },
  {
   "cell_type": "code",
   "execution_count": 29,
   "metadata": {},
   "outputs": [
    {
     "name": "stdout",
     "output_type": "stream",
     "text": [
      "my filter for multiple of 7 and 9 [63]\n"
     ]
    }
   ],
   "source": [
    "#question1.2\n",
    "def myfilter(func,x):\n",
    "    mylist=[]\n",
    "    for i in x:\n",
    "        if func(i):\n",
    "            mylist.append(i)\n",
    "    return mylist\n",
    "def mul(n):\n",
    "    if(n%7==0) & (n%9==0):\n",
    "        return True\n",
    "    else:\n",
    "        return False\n",
    "    \n",
    "l1=[63,21,22,3]\n",
    "print(\"my filter for multiple of 7 and 9\",myfilter(mul,l1))"
   ]
  },
  {
   "cell_type": "code",
   "execution_count": 33,
   "metadata": {},
   "outputs": [
    {
     "name": "stdout",
     "output_type": "stream",
     "text": [
      "['x', 'xx', 'xxx', 'xxxx', 'y', 'yy', 'yyy', 'yyyy', 'z', 'zz', 'zzz', 'zzzz']\n"
     ]
    }
   ],
   "source": [
    "#question2\n",
    "my_list=[]\n",
    "input_list=['x','y','z']\n",
    "for i in input_list:\n",
    "    for j in range(1,5):\n",
    "        temp=i\n",
    "        k=temp*j\n",
    "        my_list.append(k)\n",
    "print(my_list)            "
   ]
  },
  {
   "cell_type": "code",
   "execution_count": 34,
   "metadata": {},
   "outputs": [
    {
     "name": "stdout",
     "output_type": "stream",
     "text": [
      "['x', 'y', 'z', 'xx', 'yy', 'zz', 'xxx', 'yyy', 'zzz', 'xxxx', 'yyyy', 'zzzz']\n"
     ]
    }
   ],
   "source": [
    "#2nd part\n",
    "my_list =[]\n",
    "input_list = ['x','y','z']\n",
    "for i in range(1,5):\n",
    "    for j in input_list:\n",
    "        temp=j\n",
    "        k=temp*i\n",
    "        my_list.append(k)\n",
    "print(my_list)        "
   ]
  },
  {
   "cell_type": "code",
   "execution_count": 48,
   "metadata": {},
   "outputs": [
    {
     "name": "stdout",
     "output_type": "stream",
     "text": [
      "[(1, 1), (2, 1), (3, 1), (1, 2), (2, 2), (3, 2), (1, 3), (2, 3), (3, 3)]\n"
     ]
    }
   ],
   "source": [
    "#3rd part\n",
    "my_list=[]\n",
    "k=[]\n",
    "input_list=[1,2,3]\n",
    "for i in range(1,4):\n",
    "    for j in input_list:\n",
    "        my_list.append((j,i))\n",
    "print(my_list)        \n"
   ]
  },
  {
   "cell_type": "code",
   "execution_count": null,
   "metadata": {},
   "outputs": [],
   "source": []
  }
 ],
 "metadata": {
  "kernelspec": {
   "display_name": "Python 3",
   "language": "python",
   "name": "python3"
  },
  "language_info": {
   "codemirror_mode": {
    "name": "ipython",
    "version": 3
   },
   "file_extension": ".py",
   "mimetype": "text/x-python",
   "name": "python",
   "nbconvert_exporter": "python",
   "pygments_lexer": "ipython3",
   "version": "3.7.6"
  }
 },
 "nbformat": 4,
 "nbformat_minor": 4
}
